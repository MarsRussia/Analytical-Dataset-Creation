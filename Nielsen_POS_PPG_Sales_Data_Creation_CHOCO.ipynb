{
 "cells": [
  {
   "cell_type": "code",
   "execution_count": 1,
   "metadata": {},
   "outputs": [
    {
     "data": {
      "text/plain": [
       "'C:\\\\Users\\\\omprakash.bankol\\\\Desktop\\\\MARS_Russia\\\\Analytical Dataset Creation\\\\Code'"
      ]
     },
     "execution_count": 1,
     "metadata": {},
     "output_type": "execute_result"
    }
   ],
   "source": [
    "import pandas as pd\n",
    "import numpy as np\n",
    "import datetime as dt\n",
    "import os\n",
    "os.getcwd()"
   ]
  },
  {
   "cell_type": "code",
   "execution_count": 2,
   "metadata": {},
   "outputs": [],
   "source": [
    "Nielsen_data = pd.read_csv(r\"../Data/Raw Data/(BARS)MERGED 2017-2020 NIELSEN BARS DATA LONG FORMAT.csv\")\n",
    "sku_ppg =pd.read_csv(r\"../Data/MappingFile/SKU_PPG_Mapping.csv\")\n",
    "week_mapping = pd.read_excel(r\"../Data/MappingFile//Week Mapping.xlsx\", sheet_name=\"Mapping\")\n",
    "Nielsen_data = Nielsen_data.loc[Nielsen_data[\"Manufacturer\"]== \"MARS\"]\n"
   ]
  },
  {
   "cell_type": "code",
   "execution_count": 3,
   "metadata": {},
   "outputs": [],
   "source": [
    "Nielsen_data[\"Nielsen_Sales\"] = Nielsen_data[\"1:Value (in 1000 RUR)\"]*1000\n",
    "Nielsen_data[\"Nielsen_Units\"] = Nielsen_data[\"1:Units (in 1000 PACKS)\"]*1000\n",
    "Nielsen_data[\"Nielsen_Volume\"] = Nielsen_data[\"1:Volume (in 1000)\"]*1000\n",
    "Nielsen_data[\"Nielsen_Numeric_dist\"] = Nielsen_data[\"1:Numeric Distribution (w)\"]\n",
    "Nielsen_data[\"Nielsen_Weighted_dist\"] = Nielsen_data[\"3:Weighted Distribution (w)\"]\n",
    "#Nielsen_data$Nielsen_Units <- Nielsen_data$`1:Units (in 1000 PACKS)`*1000\n",
    "#Nielsen_data$Nielsen_Volume  <- Nielsen_data$`1:Volume (in 1000)`*1000\n",
    "#Nielsen_data$Nielsen_Numeric_dist <- Nielsen_data$`1:Numeric Distribution (w)`\n",
    "#Nielsen_data$Nielsen_Weighted_dist <-Nielsen_data$`3:Weighted Distribution (w)`\n"
   ]
  },
  {
   "cell_type": "code",
   "execution_count": 4,
   "metadata": {},
   "outputs": [],
   "source": [
    "cols = [\"Manufacturer\",\"Brand\",\"SKU\",\"Week\",\"Nielsen_Sales\",\"Nielsen_Units\",\"Nielsen_Volume\",\"Nielsen_Numeric_dist\",\"Nielsen_Weighted_dist\"]\n",
    "Nielsen_data = Nielsen_data[cols]"
   ]
  },
  {
   "cell_type": "code",
   "execution_count": 5,
   "metadata": {},
   "outputs": [],
   "source": [
    "#week_mapping"
   ]
  },
  {
   "cell_type": "code",
   "execution_count": 6,
   "metadata": {},
   "outputs": [],
   "source": [
    "week_mapping['Week_no'] = week_mapping['Week']"
   ]
  },
  {
   "cell_type": "code",
   "execution_count": 7,
   "metadata": {},
   "outputs": [],
   "source": [
    "Nielsen_data['Year'] = pd.to_numeric(Nielsen_data['Week'].str.slice(2,6))\n",
    "Nielsen_data['Week_no'] = pd.to_numeric(Nielsen_data['Week'].str.slice(7,9))\n",
    "Nielsen_data['Week_no'] = \"W\"+pd.to_numeric(Nielsen_data['Week_no']).astype(str)"
   ]
  },
  {
   "cell_type": "code",
   "execution_count": 8,
   "metadata": {},
   "outputs": [],
   "source": [
    "#Nielsen_data <- merge(Nielsen_data,Week_Mapping,by.x=c(\"Year\",\"Week_no\"),by.y = c(\"Year\",\"Week\"),all.x = T)\n",
    "#Nielsen_data$Date <-as.Date(Nielsen_data$`Week Start date`)\n",
    "\n",
    "Nielsen_data = pd.merge(Nielsen_data,week_mapping, on=[\"Year\", \"Week_no\"], how='left')"
   ]
  },
  {
   "cell_type": "code",
   "execution_count": 9,
   "metadata": {},
   "outputs": [],
   "source": [
    "Nielsen_data['Date'] = pd.to_datetime(Nielsen_data['Week Start date'])"
   ]
  },
  {
   "cell_type": "code",
   "execution_count": 10,
   "metadata": {},
   "outputs": [
    {
     "data": {
      "text/plain": [
       "(8694, 16)"
      ]
     },
     "execution_count": 10,
     "metadata": {},
     "output_type": "execute_result"
    }
   ],
   "source": [
    "Nielsen_data.shape\n",
    "\n",
    "#Nielsen_data <-merge(Nielsen_data,sku_ppg,by.x = \"SKU\",by.y = \"Nielsen_SKU\",all.x = T)\n",
    "#Nielsen_data <- Nielsen_data[!is.na(Nielsen_data$PPG),]"
   ]
  },
  {
   "cell_type": "code",
   "execution_count": 11,
   "metadata": {},
   "outputs": [],
   "source": [
    "Nielsen_data = pd.merge(Nielsen_data,sku_ppg, left_on=[\"SKU\"], right_on=[\"Nielsen_SKU\"],how='left')\n",
    "#pd.merge(df1,df2, left_on=['A','B'],right_on=['A','CC'])"
   ]
  },
  {
   "cell_type": "code",
   "execution_count": 12,
   "metadata": {},
   "outputs": [
    {
     "data": {
      "text/plain": [
       "(8694, 19)"
      ]
     },
     "execution_count": 12,
     "metadata": {},
     "output_type": "execute_result"
    }
   ],
   "source": [
    "Nielsen_data.shape"
   ]
  },
  {
   "cell_type": "code",
   "execution_count": 13,
   "metadata": {},
   "outputs": [],
   "source": [
    "Nielsen_data = Nielsen_data[Nielsen_data['PPG'].notna()]"
   ]
  },
  {
   "cell_type": "code",
   "execution_count": 14,
   "metadata": {},
   "outputs": [
    {
     "data": {
      "text/plain": [
       "(245, 31)"
      ]
     },
     "execution_count": 14,
     "metadata": {},
     "output_type": "execute_result"
    }
   ],
   "source": [
    "sales_sku = pd.read_excel(r\"../Data/MappingFile/Choco_NielsenPOS_Hypercom_mapping.xlsx\",sheet_name= \"Choco_Nielsen_POS_Hypercom\",skiprows = 2)\n",
    "sales_sku.shape"
   ]
  },
  {
   "cell_type": "code",
   "execution_count": 15,
   "metadata": {},
   "outputs": [
    {
     "data": {
      "text/plain": [
       "(245, 31)"
      ]
     },
     "execution_count": 15,
     "metadata": {},
     "output_type": "execute_result"
    }
   ],
   "source": [
    "sales_sku = sales_sku.drop_duplicates()\n",
    "sales_sku.shape"
   ]
  },
  {
   "cell_type": "code",
   "execution_count": 16,
   "metadata": {},
   "outputs": [],
   "source": [
    "x5_weekly = pd.read_excel(\"../Data/Raw Data/Pyaterochka by week_by sku cases correct.xlsx\",sheet_name = \"Data\")\n",
    "#setnames(x5_weekly,\"...19\",\"Date\")\n",
    "#x5_weekly$Date <-as.Date(x5_weekly$Date)\n",
    "x5_weekly['Date'] = pd.to_datetime(x5_weekly['Unnamed: 18'])\n",
    "x5_weekly = x5_weekly.groupby(by = [\"Segment\",\"Customer\",\"Category\",\"SKU\",\"Year\",\"Period\",\"Week\",\"SKU Mars\",\"ZREP\",\"Date\"]).sum()"
   ]
  },
  {
   "cell_type": "code",
   "execution_count": 17,
   "metadata": {},
   "outputs": [],
   "source": [
    "x5_weekly = x5_weekly.reset_index()\n",
    "x5_weekly = x5_weekly.rename(columns={\"Items\": \"X5_Items_Weekly\"})\n",
    "x5_weekly.drop(['Apollo SKU', 'Cases','Unnamed: 12', 'Вес', 'Коэф', 'Unnamed: 15', 'Unnamed: 19'],axis=1,inplace=True)"
   ]
  },
  {
   "cell_type": "code",
   "execution_count": 18,
   "metadata": {},
   "outputs": [],
   "source": [
    "#sales_sku1 <- sales_sku[!duplicated(sales_sku$POS_X5_SKU.Mars),]\n",
    "#sales_sku1 <-sales_sku1[!is.na(sales_sku1$POS_X5_SKU.Mars),]\n",
    "sales_sku1 = sales_sku.drop_duplicates(subset='POS X5_SKU.Mars')\n",
    "sales_sku1 = sales_sku1[sales_sku1['POS X5_SKU.Mars'].notna()]"
   ]
  },
  {
   "cell_type": "code",
   "execution_count": 19,
   "metadata": {},
   "outputs": [],
   "source": [
    "#Get Nielsen SKU map\n",
    "#x5_weekly1 <-merge(x5_weekly,sales_sku1[,c(\"Nielsen_SKU\",\"POS_X5_SKU.Mars\")],by.x=\"SKU Mars\",by.y = \"POS_X5_SKU.Mars\",all.x = T)\n",
    "x5_weekly1 = pd.merge(x5_weekly,sales_sku1[[\"Nielsen_SKU\",\"POS X5_SKU.Mars\"]], left_on=[\"SKU Mars\"], right_on=[\"POS X5_SKU.Mars\"],how='left')"
   ]
  },
  {
   "cell_type": "code",
   "execution_count": 20,
   "metadata": {},
   "outputs": [],
   "source": [
    "#Nielsen_data1 <- merge(Nielsen_data,x5_weekly1[,c(\"X5_Items_Weekly\",\"Nielsen_SKU\",\"Date\",\"SKU Mars\")],by.x = c(\"SKU\",\"Date\"),by.y = c(\"Nielsen_SKU\",\"Date\"),all.x = T)\n",
    "Nielsen_data1 = pd.merge(Nielsen_data,x5_weekly1[[\"X5_Items_Weekly\",\"Nielsen_SKU\",\"Date\"]],left_on=[\"SKU\",\"Date\"], right_on=[\"Nielsen_SKU\",\"Date\"],how='left')"
   ]
  },
  {
   "cell_type": "code",
   "execution_count": 21,
   "metadata": {},
   "outputs": [],
   "source": [
    "#setnames(Nielsen_data1,c(\"SKU Mars\"),c(\"SKU_X5_Weekly\"))\n",
    "Nielsen_data1 = Nielsen_data1.rename(columns={\"SKU Mars\": \"SKU_X5_Weekly\"})"
   ]
  },
  {
   "cell_type": "code",
   "execution_count": 22,
   "metadata": {},
   "outputs": [],
   "source": [
    "x5_monthly = pd.read_csv(r\"../Data/Raw Data/5 Ka Sales Out_Monthly.csv\",low_memory=False)\n"
   ]
  },
  {
   "cell_type": "code",
   "execution_count": 23,
   "metadata": {},
   "outputs": [],
   "source": [
    "#x5_monthly <- x5_monthly %>% group_by(Banner,Segment,`Brand Group`,`Product name`,\n",
    "#                                      `National name`,Year_Month) %>% summarise(X5_Items_Monthly=sum(`Sum of Items`,na.rm = T),\n",
    "#                                                                                X5_LSV_Monthly=sum(`LSV (rub)`,na.rm = T))\n",
    "cls = [\"Banner\",\"Segment\",\"Brand Group\",\"Product name\",\"National name\",\"Year_Month\"]\n",
    "for i in cls:\n",
    "    x5_monthly[i] = x5_monthly[i].astype(str)\n",
    "x5_monthly = x5_monthly.groupby(by=[\"Banner\",\"Segment\",\"Brand Group\",\"Product name\",\"National name\",\"Year_Month\"]).sum()\n",
    "x5_monthly = x5_monthly.reset_index()\n",
    "x5_monthly = x5_monthly[['Banner', 'Segment', 'Brand Group', 'Product name', 'National name','Year_Month','LSV (rub)','Sum of Items']]\n",
    "x5_monthly = x5_monthly.rename(columns={\"LSV (rub)\": \"X5_LSV_Monthly\"})\n",
    "x5_monthly = x5_monthly.rename(columns={\"Sum of Items\": \"X5_Items_Monthly\"})"
   ]
  },
  {
   "cell_type": "code",
   "execution_count": 24,
   "metadata": {},
   "outputs": [],
   "source": [
    "x5_monthly = x5_monthly.loc[(x5_monthly[\"Banner\"]==\"5ka\") & (x5_monthly[\"Segment\"]==\"CHOCO\")]"
   ]
  },
  {
   "cell_type": "code",
   "execution_count": 25,
   "metadata": {},
   "outputs": [],
   "source": [
    "#sales_sku2 <- sales_sku[!duplicated(sales_sku$POS.X5.MONTHLY_National.name),]\n",
    "#sales_sku2 <-sales_sku2[!is.na(sales_sku2$`POS.X5.MONTHLY_National.name`),]\n",
    "sales_sku2 = sales_sku.drop_duplicates(subset='POS X5 Monthly_National name')\n",
    "sales_sku2 = sales_sku2[sales_sku2['POS X5 Monthly_National name'].notna()]"
   ]
  },
  {
   "cell_type": "code",
   "execution_count": 26,
   "metadata": {},
   "outputs": [],
   "source": [
    "#Get Nielsen SKU map\n",
    "#x5_monthly1 <-merge(x5_monthly,sales_sku2[,c(\"Nielsen_SKU\",\"POS.X5.MONTHLY_National.name\")],by.x=\"National name\",by.y=\"POS.X5.MONTHLY_National.name\",all.x=T)\n",
    "x5_monthly1 = pd.merge(x5_monthly,sales_sku2[[\"Nielsen_SKU\",\"POS X5 Monthly_National name\"]], left_on=\"National name\", right_on=\"POS X5 Monthly_National name\", how='left')"
   ]
  },
  {
   "cell_type": "code",
   "execution_count": 27,
   "metadata": {},
   "outputs": [],
   "source": [
    "#blank due to pivot creation\n",
    "#x5_monthly1 <-x5_monthly1[x5_monthly1$Year_Month !=\"\",]\n",
    "#x5_monthly1$Year= as.numeric(lapply(x5_monthly1$Year_Month, function(i) unlist(strsplit(i, split = '[_]'))[1]))\n",
    "#x5_monthly1$Month= as.numeric(lapply(x5_monthly1$Year_Month, function(i) unlist(strsplit(i, split = '[_]'))[2]))\n",
    "x5_monthly1 = x5_monthly1.loc[x5_monthly1['Year_Month']!=\"nan\"]\n",
    "x5_monthly1['Year'] = pd.to_numeric(x5_monthly1['Year_Month'].str.split('_').str[0])\n",
    "x5_monthly1['Month'] = pd.to_numeric(x5_monthly1['Year_Month'].str.split('_').str[1])"
   ]
  },
  {
   "cell_type": "code",
   "execution_count": 28,
   "metadata": {},
   "outputs": [],
   "source": [
    "#merge Nielsen and X5 monthly data\n",
    "#Nielsen_data2 <- merge(Nielsen_data1,x5_monthly1[,c(\"National name\",\"X5_Items_Monthly\",\"X5_LSV_Monthly\",\"Nielsen_SKU\",\"Month\",\"Year\")],by.x = c(\"SKU\",\"Month\",\"Year\"),by.y = c(\"Nielsen_SKU\",\"Month\",\"Year\"),all.x = T)\n",
    "#setnames(Nielsen_data2,c(\"National name\"),c(\"SKU_X5_Monthly\"))\n",
    "Nielsen_data2 = pd.merge(Nielsen_data1,x5_monthly1[[\"National name\",\"X5_Items_Monthly\",\"X5_LSV_Monthly\",\"Nielsen_SKU\",\"Month\",\"Year\"]],left_on= [\"SKU\",\"Month\",\"Year\"],right_on=[\"Nielsen_SKU\",\"Month\",\"Year\"],how='left')\n",
    "Nielsen_data2 = Nielsen_data2.rename(columns={\"National name\": \"SKU_X5_Monthly\"})"
   ]
  },
  {
   "cell_type": "code",
   "execution_count": 29,
   "metadata": {},
   "outputs": [],
   "source": [
    "magnit_data = pd.read_excel(\"../Data/Raw Data/Tander Choco - Sales out 2018-2020 (with month)_Data.xlsx\")"
   ]
  },
  {
   "cell_type": "code",
   "execution_count": 30,
   "metadata": {},
   "outputs": [],
   "source": [
    "magnit_data = magnit_data.loc[magnit_data.Format=='МД']\n",
    "#magnit_data = magnit_data.rename(columns={\"Продажи, LSV (rub)\": \"LSV (rub)\"})"
   ]
  },
  {
   "cell_type": "code",
   "execution_count": 31,
   "metadata": {},
   "outputs": [],
   "source": [
    "#magnit_data <-magnit_data %>% group_by(Format,ProductGroup,`National name`,Month_year) %>% summarise(Magnit_Units_Monthly=sum(`Quantity (items)`,na.rm = T),\n",
    "#                                                                                                     Magnit_Sales_Monthly=sum(`Sales Value (rub)`,na.rm = T),\n",
    "#                                                                                                     Magnit_LSV_Monthly=sum(`LSV (rub)`,na.rm = T))\n",
    "magnit_data = magnit_data.groupby(by=[\"Format\",\"Brand\",\"Product Name\",\"Year\",\"Month\"]).sum()\n",
    "magnit_data = magnit_data.reset_index()\n",
    "magnit_data = magnit_data.rename(columns={\"Quantity (items)\": \"Magnit_Units_Monthly\"})\n",
    "magnit_data = magnit_data.rename(columns={\"Sales Value (rub)\": \"Magnit_Sales_Monthly\"})\n",
    "magnit_data = magnit_data.rename(columns={\"LSV (rub)\": \"Magnit_LSV_Monthly\"})                                                                                                                            "
   ]
  },
  {
   "cell_type": "code",
   "execution_count": 32,
   "metadata": {},
   "outputs": [],
   "source": [
    "sales_sku3 = sales_sku.drop_duplicates(subset='POS Tander_Product.Name')\n",
    "sales_sku3 = sales_sku3[sales_sku3['POS Tander_Product.Name'].notna()]\n"
   ]
  },
  {
   "cell_type": "code",
   "execution_count": 33,
   "metadata": {},
   "outputs": [],
   "source": [
    "magnit_data1 = pd.merge(magnit_data,sales_sku3[[\"Nielsen_SKU\",\"POS Tander_Product.Name\"]],left_on=\"Product Name\",right_on=\"POS Tander_Product.Name\",how='left')\n",
    "#magnit_data1['Year'] = pd.to_numeric(magnit_data1['Month_year'].str.split('_').str[1])\n",
    "#magnit_data1['Month'] = pd.to_numeric(magnit_data1['Month_year'].str.split('_').str[0])"
   ]
  },
  {
   "cell_type": "code",
   "execution_count": 34,
   "metadata": {},
   "outputs": [],
   "source": [
    "#merge Nielsen and X5 monthly data\n",
    "#Nielsen_data3 <- merge(Nielsen_data2,magnit_data1[,c(\"National name\",\"Magnit_Units_Monthly\",\"Magnit_Sales_Monthly\",\"Magnit_LSV_Monthly\",\"Nielsen_SKU\",\"Month\",\"Year\")],by.x = c(\"SKU\",\"Month\",\"Year\"),by.y = c(\"Nielsen_SKU\",\"Month\",\"Year\"),all.x = T)\n",
    "#setnames(Nielsen_data3,c(\"National name\"),c(\"SKU_Magnit_Monthly\"))\n",
    "Nielsen_data3 = pd.merge(Nielsen_data2,magnit_data1[[\"Magnit_Units_Monthly\",\"Magnit_Sales_Monthly\",\"Magnit_LSV_Monthly\",\"Nielsen_SKU\",\"Month\",\"Year\"]],left_on= [\"SKU\",\"Month\",\"Year\"],right_on= [\"Nielsen_SKU\",\"Month\",\"Year\"],how='left')\n",
    "Nielsen_data3 = Nielsen_data3.rename(columns={\"National name\": \"SKU_Magnit_Monthly\"})"
   ]
  },
  {
   "cell_type": "code",
   "execution_count": 35,
   "metadata": {},
   "outputs": [],
   "source": [
    "Nielsen_data3.dtypes\n",
    "Nielsen_data3[\"X5_Items_Weekly\"] = pd.to_numeric(Nielsen_data3[\"X5_Items_Weekly\"])\n",
    "#Nielsen_data3[\"X5_LSV_Monthly\"] = pd.to_numeric(Nielsen_data3[\"X5_LSV_Monthly\"])\n",
    "#Nielsen_data3[\"X5_Items_Monthly\"] = pd.to_numeric(Nielsen_data3[\"X5_Items_Monthly\"])\n"
   ]
  },
  {
   "cell_type": "code",
   "execution_count": 36,
   "metadata": {},
   "outputs": [],
   "source": [
    "Nielsen_data4 = Nielsen_data3.groupby(by=[\"Manufacturer\",\"PPG\",\"PPG_Part\",\"Date\",\"Year\",\"Month\",\"Week_no\"]).aggregate({\"Nielsen_Units\":np.sum,\"Nielsen_Sales\":np.sum,\"Nielsen_Volume\":np.sum,\"Nielsen_Numeric_dist\":max,\"Nielsen_Weighted_dist\":max,\"X5_Items_Weekly\":np.sum,\"X5_Items_Monthly\":np.sum,\"X5_LSV_Monthly\":np.sum,\"Magnit_Units_Monthly\":np.sum,\"Magnit_Sales_Monthly\":np.sum,\"Magnit_LSV_Monthly\":np.sum})"
   ]
  },
  {
   "cell_type": "code",
   "execution_count": 37,
   "metadata": {},
   "outputs": [],
   "source": [
    "Nielsen_data4 = Nielsen_data4.reset_index()"
   ]
  },
  {
   "cell_type": "code",
   "execution_count": 38,
   "metadata": {},
   "outputs": [],
   "source": [
    "cls = ['Nielsen_Units','Nielsen_Sales', 'Nielsen_Volume','Nielsen_Numeric_dist', 'Nielsen_Weighted_dist', 'X5_Items_Weekly','X5_Items_Monthly', 'X5_LSV_Monthly', 'Magnit_Units_Monthly','Magnit_Sales_Monthly', 'Magnit_LSV_Monthly']\n",
    "Nielsen_data4[cls] = Nielsen_data4[cls].replace([0], np.nan)"
   ]
  },
  {
   "cell_type": "code",
   "execution_count": 39,
   "metadata": {},
   "outputs": [],
   "source": [
    "Nielsen_data4 = Nielsen_data4.sort_values([\"PPG\",\"Date\"])\n",
    "Nielsen_data4 = Nielsen_data4.rename(columns={\"X5_Items_Weekly\": \"X5_Units_Weekly\"})\n",
    "Nielsen_data4 = Nielsen_data4.rename(columns={\"X5_Items_Monthly\": \"X5_Units_Monthly\"})\n"
   ]
  },
  {
   "cell_type": "code",
   "execution_count": 40,
   "metadata": {},
   "outputs": [],
   "source": [
    "Nielsen_data4['Date'] = pd.to_datetime(Nielsen_data4['Date'])\n",
    "Nielsen_data4['Date'] = Nielsen_data4['Date'].dt.date"
   ]
  },
  {
   "cell_type": "code",
   "execution_count": 41,
   "metadata": {},
   "outputs": [],
   "source": [
    "Nielsen_data4.to_excel(r\"../Process/Analytical_Input_Optimizer/Nielsen_POS_Data_for_Apportion_CHOCO.xlsx\",index=False)"
   ]
  },
  {
   "cell_type": "code",
   "execution_count": null,
   "metadata": {},
   "outputs": [],
   "source": []
  },
  {
   "cell_type": "code",
   "execution_count": null,
   "metadata": {},
   "outputs": [],
   "source": []
  },
  {
   "cell_type": "code",
   "execution_count": null,
   "metadata": {},
   "outputs": [],
   "source": []
  }
 ],
 "metadata": {
  "kernelspec": {
   "display_name": "Python 3",
   "language": "python",
   "name": "python3"
  },
  "language_info": {
   "codemirror_mode": {
    "name": "ipython",
    "version": 3
   },
   "file_extension": ".py",
   "mimetype": "text/x-python",
   "name": "python",
   "nbconvert_exporter": "python",
   "pygments_lexer": "ipython3",
   "version": "3.7.0"
  }
 },
 "nbformat": 4,
 "nbformat_minor": 2
}
