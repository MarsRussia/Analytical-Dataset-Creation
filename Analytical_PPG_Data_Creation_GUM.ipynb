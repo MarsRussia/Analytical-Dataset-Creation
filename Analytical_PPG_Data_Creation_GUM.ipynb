{
 "cells": [
  {
   "cell_type": "code",
   "execution_count": 1,
   "metadata": {},
   "outputs": [
    {
     "name": "stdout",
     "output_type": "stream",
     "text": [
      "C:\\Users\\omprakash.bankol\\Desktop\\MARS_Russia\\Analytical Dataset Creation\\Code\n"
     ]
    }
   ],
   "source": [
    "import pandas as pd\n",
    "import numpy as np\n",
    "import datetime as dt\n",
    "import os\n",
    "os.getcwd()\n",
    "print(os.getcwd())\n",
    "\n",
    "#################Data Prep and Combined#####################\n",
    "#Nielsen Info (Sales, units,ACV(dist), Median base price, final base price, tpr & SI)\n",
    "#Retailer Info (Retailer Units-from raw data and Apportion)\n",
    "#Price Monitoring Info (Price, median base price)\n",
    "#Promo Info (Promo Period, promo days, discount)\n",
    "#Catalog & Hyperocm Info\n",
    "#Catalog\n",
    "#Holiday Info\n",
    "#Nielsen PPG-Competitors Picre Info\n",
    "\n",
    "#path=\"C:\\\\Users\\\\omprakash.bankol\\\\Desktop\\MARS_Russia\\\\Dataset Preparation\\\\\"\n",
    "path=\"..\\\\Process\"\n"
   ]
  },
  {
   "cell_type": "code",
   "execution_count": 2,
   "metadata": {},
   "outputs": [
    {
     "data": {
      "text/plain": [
       "(468, 18)"
      ]
     },
     "execution_count": 2,
     "metadata": {},
     "output_type": "execute_result"
    }
   ],
   "source": [
    "### Reading apportioned weekly sales data along with Nielsen info\n",
    "sales_data =pd.read_excel(path+\"\\\\Analytical_Output_Optimizer\\\\Nielsen_POS_Data_Apportioned_GUM.xlsx\")\n",
    "sales_data=sales_data.loc[sales_data['Year']> 2017,]\n",
    "sales_data.reset_index(drop=True,inplace=True)\n",
    "\n",
    "\n",
    "#Drop uncommon PPG part data (SKU)\n",
    "sales_data['PPG_Part_Common']=sales_data['PPG_Part'].apply(lambda x: not(\"Out_Any\" in x) )\n",
    "sales_data =sales_data.loc[sales_data['PPG_Part_Common'],]\n",
    "sales_data.reset_index(drop=True,inplace=True)\n",
    "\n",
    "#Nielsen updated units\n",
    "sales_data['PPG_Part_in_Magnit']=sales_data['PPG_Part'].apply(lambda x: (\"In_Magnit\" in x) )\n",
    "var=\"Nielsen_Updated_Units\"\n",
    "sales_data.loc[sales_data['PPG_Part_in_Magnit'],var] = sales_data.loc[sales_data['PPG_Part_in_Magnit'],'Nielsen_Units']\n",
    "\n",
    "\n",
    "#rolled up\n",
    "col_group=['Manufacturer', 'Brand', 'PPG', 'Date', 'Year', 'Month', 'Week_no']\n",
    "sales_data_sum=sales_data.groupby(col_group)['Nielsen_Units', 'Nielsen_Sales', 'Nielsen_Volume','Nielsen_Updated_Units',\n",
    "                  'X5_Units_Weekly','Magnit_Units_Weekly','X5_Units_Monthly', 'X5_LSV_Monthly', 'Magnit_Units_Monthly',\n",
    "                  'Magnit_Sales_Monthly', 'Magnit_LSV_Monthly'].sum().reset_index()\n",
    "\n",
    "sales_data_max = sales_data.groupby(col_group)['Nielsen_Numeric_dist', 'Nielsen_Weighted_dist'].max().reset_index()\n",
    "sales_data0 = pd.merge(sales_data_sum,sales_data_max,on=col_group,how='left')\n",
    "\n",
    "del sales_data\n",
    "sales_data=sales_data0.copy()\n",
    "\n",
    "\n",
    "#wide to long\n",
    "Retailer_sales_data =sales_data[['Date','PPG','Magnit_Units_Weekly','X5_Units_Weekly']]\n",
    "Retailer_sales_data_long=pd.melt(Retailer_sales_data,id_vars=['Date','PPG'],var_name=\"Retailer\",value_name='Retailer_Units')\n",
    "Retailer_sales_data_long['Retailer']=Retailer_sales_data_long['Retailer'].map({'Magnit_Units_Weekly': 'Magnit', 'X5_Units_Weekly': 'X5'})\n",
    "\n",
    "col_drop=['Magnit_Units_Weekly','X5_Units_Weekly','X5_Units_Monthly', 'X5_LSV_Monthly','Magnit_Units_Monthly', 'Magnit_Sales_Monthly', 'Magnit_LSV_Monthly']\n",
    "sales_data.drop(col_drop,axis=1,inplace=True)\n",
    "\n",
    "#Merge Nielsen and POS data\n",
    "sales_data1 = pd.merge(sales_data,Retailer_sales_data_long,on=['PPG','Date'],how='left')\n",
    "\n",
    "\n",
    "#reorder\n",
    "move_col = sales_data1['Retailer']\n",
    "sales_data1.drop(labels=['Retailer'], axis=1, inplace = True)\n",
    "sales_data1.insert(2, 'Retailer', move_col)\n",
    "\n",
    "\n",
    "\n",
    "\n",
    "\n",
    "######Nielsen Median Base Price Calculation######\n",
    "sales_data1.sort_values(['Manufacturer','Retailer','PPG','Date'], axis = 0, ascending = True,inplace = True)\n",
    "sales_data1.reset_index(drop=True,inplace=True)\n",
    "sales_data1['Nielsen_price_per_unit']=sales_data1['Nielsen_Sales']/sales_data1['Nielsen_Units']\n",
    "\n",
    "for i in range(1,8):\n",
    "    sales_data1['Nielsen_price_per_unit'+'_lag'+str(i)]=sales_data1.groupby(['Retailer','PPG'])['Nielsen_price_per_unit'].shift(periods=i)\n",
    "\n",
    "#max of previous 7 weeks\n",
    "Cols_Nielsen = [i for i in list(sales_data1.columns) if \"Nielsen_price_per_unit_lag\" in i] \n",
    "sales_data1['Nielsen_max_price_prev']=  sales_data1[Cols_Nielsen].max(axis=1)  \n",
    "\n",
    "\n",
    "#sudden jump in price will map to NA\n",
    "for i in range(1,8):\n",
    "    var='Nielsen_price_per_unit'+'_lag'+str(i)\n",
    "    sales_data1.loc[np.abs(sales_data1[var]-sales_data1['Nielsen_max_price_prev'])/sales_data1['Nielsen_max_price_prev'] > 0.05,var]=np.nan\n",
    "\n",
    "\n",
    "#median base price\n",
    "sales_data1['Nielsen_median_base_price']=sales_data1[Cols_Nielsen].median(axis=1) \n",
    "sales_data1['Nielsen_median_base_price']=sales_data1['Nielsen_median_base_price']\n",
    "\n",
    "var='Nielsen_median_base_price'\n",
    "idx = np.where(np.abs(sales_data1[var]-sales_data1['Nielsen_price_per_unit'])/sales_data1[var] <= 0.05, 1, 0)\n",
    "sales_data1.loc[idx==1,var]=sales_data1.loc[idx==1,'Nielsen_price_per_unit']\n",
    "sales_data1.loc[idx==0,var]=sales_data1.loc[idx==0,var]\n",
    "\n",
    "\n",
    "#final base price (more smoother than median base)\n",
    "sales_data1.sort_values(['Retailer','PPG','Date'], axis = 0, ascending = True,inplace = True)\n",
    "sales_data1.index=sales_data1['Date']\n",
    "final_base_price=sales_data1.groupby(['Retailer','PPG'])[var].rolling(window=26,min_periods=1).max()\n",
    "final_base_price=pd.DataFrame(final_base_price)\n",
    "(final_base_price).reset_index(inplace=True)\n",
    "final_base_price.rename(columns={'Nielsen_median_base_price':'Nielsen_final_base_price'},inplace=True)\n",
    "sales_data1.reset_index(inplace=True,drop=True)\n",
    "sales_data1=pd.merge(sales_data1,final_base_price,on=['Retailer','PPG','Date'],how='left')\n",
    "\n",
    "#na in final base price, replace by asp\n",
    "idx = np.where(sales_data1['Nielsen_final_base_price'].isna(), 1, 0)\n",
    "sales_data1.loc[idx==1,'Nielsen_final_base_price']=sales_data1.loc[idx==1,'Nielsen_price_per_unit']\n",
    "\n",
    "\n",
    "#\n",
    "var='Nielsen_final_base_price'\n",
    "idx = np.where(np.abs(sales_data1[var]-sales_data1['Nielsen_median_base_price'])/sales_data1[var] >= 0.05, 1, 0)\n",
    "sales_data1.loc[idx==1,'Nielsen_median_base_price']=sales_data1.loc[idx==1,var]*0.95\n",
    "#sales_data1.loc[idx==0,'Nielsen_median_base_price']=sales_data1.loc[idx==0,'Nielsen_median_base_price']\n",
    "sales_data2=sales_data1.copy()\n",
    "Cols_Nielsen = [i for i in list(sales_data1.columns) if \"Nielsen_price_per_unit_lag\" in i] \n",
    "Cols_Nielsen=Cols_Nielsen+['Nielsen_max_price_prev']\n",
    "sales_data2.drop(Cols_Nielsen,axis=1,inplace=True)\n",
    "sales_data2.shape\n",
    "\n",
    "\n"
   ]
  },
  {
   "cell_type": "code",
   "execution_count": 3,
   "metadata": {},
   "outputs": [
    {
     "data": {
      "text/plain": [
       "Magnit    234\n",
       "X5        234\n",
       "Name: Retailer, dtype: int64"
      ]
     },
     "execution_count": 3,
     "metadata": {},
     "output_type": "execute_result"
    }
   ],
   "source": [
    "####Nielsen Combined() TPR calculation#####\n",
    "sales_data2['Nielsen_TPR']=0\n",
    "var='Nielsen_median_base_price'\n",
    "idx = np.where((sales_data2[var]-sales_data2['Nielsen_price_per_unit'])/sales_data2[var] > 0.05, 1, 0)\n",
    "sales_data2.loc[idx==1,'Nielsen_TPR']=(sales_data2[var]-sales_data2['Nielsen_price_per_unit'])/sales_data2[var]\n",
    "sales_data2['Nielsen_TPR']=sales_data2['Nielsen_TPR']*100\n",
    "#s\n",
    "\n",
    "\n",
    "sales_data2['PPG'].value_counts()\n",
    "sales_data2['Year'].value_counts()\n",
    "sales_data2['Retailer'].value_counts()\n"
   ]
  },
  {
   "cell_type": "code",
   "execution_count": 4,
   "metadata": {},
   "outputs": [
    {
     "data": {
      "text/plain": [
       "(468, 22)"
      ]
     },
     "execution_count": 4,
     "metadata": {},
     "output_type": "execute_result"
    }
   ],
   "source": [
    "#####SI merge (calculated on Segment)#####\n",
    "SI_data =pd.read_excel(path+\"\\\\SI_Index\\\\GUM_17_18 Seasonality Index.xlsx\")\n",
    "SI_data['week_number'] =\"W\"+SI_data['week_number'].astype(str)\n",
    "SI_data.rename(columns={'SI':'SI_17_18','week_number':'Week'},inplace=True)\n",
    "sales_data2.rename(columns={'Week_no':'Week'},inplace=True)\n",
    "sales_data2 = pd.merge(sales_data2,SI_data,on=\"Week\",how=\"left\")\n",
    "\n",
    "SI_data =pd.read_excel(path+\"\\\\SI_Index\\\\GUM_18_19 Seasonality Index.xlsx\")\n",
    "SI_data['week_number'] =\"W\"+SI_data['week_number'].astype(str)\n",
    "SI_data.rename(columns={'SI':'SI_18_19','week_number':'Week'},inplace=True)\n",
    "sales_data2.rename(columns={'Week_no':'Week'},inplace=True)\n",
    "sales_data2 = pd.merge(sales_data2,SI_data,on=\"Week\",how=\"left\")\n",
    "\n",
    "SI_data =pd.read_excel(path+\"\\\\SI_Index\\\\GUM_17_18_19 Seasonality Index.xlsx\")\n",
    "SI_data['week_number'] =\"W\"+SI_data['week_number'].astype(str)\n",
    "SI_data.rename(columns={'SI':'SI_17_18_19','week_number':'Week'},inplace=True)\n",
    "sales_data2.rename(columns={'Week_no':'Week'},inplace=True)\n",
    "sales_data2 = pd.merge(sales_data2,SI_data,on=\"Week\",how=\"left\")\n",
    "sales_data2.shape\n",
    "\n"
   ]
  },
  {
   "cell_type": "code",
   "execution_count": 5,
   "metadata": {},
   "outputs": [
    {
     "data": {
      "text/html": [
       "<div>\n",
       "<style scoped>\n",
       "    .dataframe tbody tr th:only-of-type {\n",
       "        vertical-align: middle;\n",
       "    }\n",
       "\n",
       "    .dataframe tbody tr th {\n",
       "        vertical-align: top;\n",
       "    }\n",
       "\n",
       "    .dataframe thead th {\n",
       "        text-align: right;\n",
       "    }\n",
       "</style>\n",
       "<table border=\"1\" class=\"dataframe\">\n",
       "  <thead>\n",
       "    <tr style=\"text-align: right;\">\n",
       "      <th></th>\n",
       "      <th>Manufacturer</th>\n",
       "      <th>Brand</th>\n",
       "      <th>Retailer</th>\n",
       "      <th>PPG</th>\n",
       "      <th>Date</th>\n",
       "      <th>Year</th>\n",
       "      <th>Month</th>\n",
       "      <th>Week</th>\n",
       "      <th>Nielsen_Units</th>\n",
       "      <th>Nielsen_Sales</th>\n",
       "      <th>...</th>\n",
       "      <th>Nielsen_Numeric_dist</th>\n",
       "      <th>Nielsen_Weighted_dist</th>\n",
       "      <th>Retailer_Units</th>\n",
       "      <th>Nielsen_price_per_unit</th>\n",
       "      <th>Nielsen_median_base_price</th>\n",
       "      <th>Nielsen_final_base_price</th>\n",
       "      <th>Nielsen_TPR</th>\n",
       "      <th>SI_17_18</th>\n",
       "      <th>SI_18_19</th>\n",
       "      <th>SI_17_18_19</th>\n",
       "    </tr>\n",
       "  </thead>\n",
       "  <tbody>\n",
       "    <tr>\n",
       "      <th>0</th>\n",
       "      <td>MARS</td>\n",
       "      <td>ORBIT</td>\n",
       "      <td>Magnit</td>\n",
       "      <td>ORBIT OTC</td>\n",
       "      <td>2017-12-31</td>\n",
       "      <td>2018</td>\n",
       "      <td>1</td>\n",
       "      <td>W1</td>\n",
       "      <td>1490000</td>\n",
       "      <td>38099800</td>\n",
       "      <td>...</td>\n",
       "      <td>94.7</td>\n",
       "      <td>20.1</td>\n",
       "      <td>4.484883e+05</td>\n",
       "      <td>25.570336</td>\n",
       "      <td>NaN</td>\n",
       "      <td>25.570336</td>\n",
       "      <td>0.000000</td>\n",
       "      <td>0.804226</td>\n",
       "      <td>0.702187</td>\n",
       "      <td>0.840807</td>\n",
       "    </tr>\n",
       "    <tr>\n",
       "      <th>1</th>\n",
       "      <td>MARS</td>\n",
       "      <td>ORBIT</td>\n",
       "      <td>Magnit</td>\n",
       "      <td>ORBIT OTC</td>\n",
       "      <td>2018-01-07</td>\n",
       "      <td>2018</td>\n",
       "      <td>1</td>\n",
       "      <td>W2</td>\n",
       "      <td>1741600</td>\n",
       "      <td>44582500</td>\n",
       "      <td>...</td>\n",
       "      <td>95.0</td>\n",
       "      <td>15.2</td>\n",
       "      <td>4.364255e+05</td>\n",
       "      <td>25.598588</td>\n",
       "      <td>25.598588</td>\n",
       "      <td>25.598588</td>\n",
       "      <td>0.000000</td>\n",
       "      <td>0.895066</td>\n",
       "      <td>0.788304</td>\n",
       "      <td>0.893200</td>\n",
       "    </tr>\n",
       "    <tr>\n",
       "      <th>2</th>\n",
       "      <td>MARS</td>\n",
       "      <td>ORBIT</td>\n",
       "      <td>Magnit</td>\n",
       "      <td>ORBIT OTC</td>\n",
       "      <td>2018-01-14</td>\n",
       "      <td>2018</td>\n",
       "      <td>1</td>\n",
       "      <td>W3</td>\n",
       "      <td>1930100</td>\n",
       "      <td>47782500</td>\n",
       "      <td>...</td>\n",
       "      <td>95.1</td>\n",
       "      <td>45.6</td>\n",
       "      <td>8.709934e+05</td>\n",
       "      <td>24.756489</td>\n",
       "      <td>24.756489</td>\n",
       "      <td>25.598588</td>\n",
       "      <td>0.000000</td>\n",
       "      <td>0.984917</td>\n",
       "      <td>0.862251</td>\n",
       "      <td>1.006442</td>\n",
       "    </tr>\n",
       "    <tr>\n",
       "      <th>3</th>\n",
       "      <td>MARS</td>\n",
       "      <td>ORBIT</td>\n",
       "      <td>Magnit</td>\n",
       "      <td>ORBIT OTC</td>\n",
       "      <td>2018-01-21</td>\n",
       "      <td>2018</td>\n",
       "      <td>1</td>\n",
       "      <td>W4</td>\n",
       "      <td>2347200</td>\n",
       "      <td>52925700</td>\n",
       "      <td>...</td>\n",
       "      <td>95.4</td>\n",
       "      <td>51.5</td>\n",
       "      <td>1.243014e+06</td>\n",
       "      <td>22.548441</td>\n",
       "      <td>25.570336</td>\n",
       "      <td>25.598588</td>\n",
       "      <td>11.817971</td>\n",
       "      <td>1.009257</td>\n",
       "      <td>0.888574</td>\n",
       "      <td>1.026770</td>\n",
       "    </tr>\n",
       "    <tr>\n",
       "      <th>4</th>\n",
       "      <td>MARS</td>\n",
       "      <td>ORBIT</td>\n",
       "      <td>Magnit</td>\n",
       "      <td>ORBIT OTC</td>\n",
       "      <td>2018-01-28</td>\n",
       "      <td>2018</td>\n",
       "      <td>1</td>\n",
       "      <td>W5</td>\n",
       "      <td>3341500</td>\n",
       "      <td>67022400</td>\n",
       "      <td>...</td>\n",
       "      <td>95.7</td>\n",
       "      <td>64.6</td>\n",
       "      <td>1.726902e+06</td>\n",
       "      <td>20.057579</td>\n",
       "      <td>25.570336</td>\n",
       "      <td>25.598588</td>\n",
       "      <td>21.559188</td>\n",
       "      <td>1.101249</td>\n",
       "      <td>0.980144</td>\n",
       "      <td>1.075275</td>\n",
       "    </tr>\n",
       "  </tbody>\n",
       "</table>\n",
       "<p>5 rows × 22 columns</p>\n",
       "</div>"
      ],
      "text/plain": [
       "  Manufacturer  Brand Retailer        PPG       Date  Year  Month Week  \\\n",
       "0         MARS  ORBIT   Magnit  ORBIT OTC 2017-12-31  2018      1   W1   \n",
       "1         MARS  ORBIT   Magnit  ORBIT OTC 2018-01-07  2018      1   W2   \n",
       "2         MARS  ORBIT   Magnit  ORBIT OTC 2018-01-14  2018      1   W3   \n",
       "3         MARS  ORBIT   Magnit  ORBIT OTC 2018-01-21  2018      1   W4   \n",
       "4         MARS  ORBIT   Magnit  ORBIT OTC 2018-01-28  2018      1   W5   \n",
       "\n",
       "   Nielsen_Units  Nielsen_Sales     ...       Nielsen_Numeric_dist  \\\n",
       "0        1490000       38099800     ...                       94.7   \n",
       "1        1741600       44582500     ...                       95.0   \n",
       "2        1930100       47782500     ...                       95.1   \n",
       "3        2347200       52925700     ...                       95.4   \n",
       "4        3341500       67022400     ...                       95.7   \n",
       "\n",
       "   Nielsen_Weighted_dist  Retailer_Units  Nielsen_price_per_unit  \\\n",
       "0                   20.1    4.484883e+05               25.570336   \n",
       "1                   15.2    4.364255e+05               25.598588   \n",
       "2                   45.6    8.709934e+05               24.756489   \n",
       "3                   51.5    1.243014e+06               22.548441   \n",
       "4                   64.6    1.726902e+06               20.057579   \n",
       "\n",
       "   Nielsen_median_base_price  Nielsen_final_base_price  Nielsen_TPR  SI_17_18  \\\n",
       "0                        NaN                 25.570336     0.000000  0.804226   \n",
       "1                  25.598588                 25.598588     0.000000  0.895066   \n",
       "2                  24.756489                 25.598588     0.000000  0.984917   \n",
       "3                  25.570336                 25.598588    11.817971  1.009257   \n",
       "4                  25.570336                 25.598588    21.559188  1.101249   \n",
       "\n",
       "   SI_18_19  SI_17_18_19  \n",
       "0  0.702187     0.840807  \n",
       "1  0.788304     0.893200  \n",
       "2  0.862251     1.006442  \n",
       "3  0.888574     1.026770  \n",
       "4  0.980144     1.075275  \n",
       "\n",
       "[5 rows x 22 columns]"
      ]
     },
     "execution_count": 5,
     "metadata": {},
     "output_type": "execute_result"
    }
   ],
   "source": [
    "sales_data2.head()"
   ]
  },
  {
   "cell_type": "code",
   "execution_count": 6,
   "metadata": {},
   "outputs": [
    {
     "data": {
      "text/plain": [
       "(468, 28)"
      ]
     },
     "execution_count": 6,
     "metadata": {},
     "output_type": "execute_result"
    }
   ],
   "source": [
    "#####Price Monitoring#####\n",
    "#APM=Average price monitoring, WPM=Weighted Price Monitoring\n",
    "price_monitor =pd.read_excel(path+\"\\\\Price_Monitoring\\\\Price_Monitoring_PPG_Data.xlsx\")\n",
    "price_monitor.columns\n",
    "price_monitor.drop(['Nielsen_Units', 'PricexUnit'],axis=1,inplace=True)\n",
    "sales_data2 = pd.merge(sales_data2,price_monitor,on=['Retailer','PPG','Date'],how=\"left\")\n",
    "sales_data2.shape"
   ]
  },
  {
   "cell_type": "code",
   "execution_count": 7,
   "metadata": {
    "scrolled": true
   },
   "outputs": [
    {
     "name": "stdout",
     "output_type": "stream",
     "text": [
      "(468, 40)\n"
     ]
    }
   ],
   "source": [
    "#######Promo Information##########\n",
    "promo_data =pd.read_excel(path+\"\\\\Promo\\\\Weekly_Promo_Gum_Data(PPG_Level).xlsx\")\n",
    "promo_data.rename(columns={'Week.Start.date':'Date','PPG Name':'PPG'},inplace=True)\n",
    "promo_data['Retailer'].value_counts()\n",
    "#promo_data['Retailer']=promo_data['Retailer'].map({'Магнит':'Magnit','Пятерочка':'X5'})\n",
    "promo_data['PPG'].value_counts()\n",
    "col_del=['Year','Week','Month_Name','Month']\n",
    "promo_data.drop(col_del,axis=1,inplace=True)\n",
    "sales_data2=pd.merge(sales_data2,promo_data,on=['Retailer','PPG','Date'],how='left')\n",
    "print(sales_data2.shape)"
   ]
  },
  {
   "cell_type": "code",
   "execution_count": 8,
   "metadata": {},
   "outputs": [
    {
     "data": {
      "text/plain": [
       "Manufacturer                   0\n",
       "Brand                          0\n",
       "Retailer                       0\n",
       "PPG                            0\n",
       "Date                           0\n",
       "Year                           0\n",
       "Month                          0\n",
       "Week                           0\n",
       "Nielsen_Units                  0\n",
       "Nielsen_Sales                  0\n",
       "Nielsen_Volume                 0\n",
       "Nielsen_Updated_Units          0\n",
       "Nielsen_Numeric_dist           0\n",
       "Nielsen_Weighted_dist          0\n",
       "Retailer_Units                 0\n",
       "Nielsen_price_per_unit         0\n",
       "Nielsen_median_base_price      4\n",
       "Nielsen_final_base_price       0\n",
       "Nielsen_TPR                    0\n",
       "SI_17_18                       0\n",
       "SI_18_19                       0\n",
       "SI_17_18_19                    0\n",
       "Avg_Price_Monitoring         282\n",
       "Weighted_Price_Monitoring    282\n",
       "WPM_median_base_price        284\n",
       "WPM_final_base_price         282\n",
       "APM_median_base_price        284\n",
       "APM_final_base_price         282\n",
       "Date start promo             377\n",
       "Date end promo               377\n",
       "Promo_days                     0\n",
       "Level                        377\n",
       "Activity.name                377\n",
       "Mechanic                     389\n",
       "Discount..NRV..              381\n",
       "Auto.Status.Promo            389\n",
       "Manual.Status.Promo          405\n",
       "Approved                     389\n",
       "Fact_Flag                    377\n",
       "Remark                       468\n",
       "dtype: int64"
      ]
     },
     "execution_count": 8,
     "metadata": {},
     "output_type": "execute_result"
    }
   ],
   "source": [
    "sales_data2.isnull().sum()"
   ]
  },
  {
   "cell_type": "code",
   "execution_count": 9,
   "metadata": {},
   "outputs": [
    {
     "data": {
      "text/plain": [
       "Index(['Manufacturer', 'Brand', 'Retailer', 'PPG', 'Date', 'Year', 'Month',\n",
       "       'Week', 'Nielsen_Units', 'Nielsen_Sales', 'Nielsen_Volume',\n",
       "       'Nielsen_Updated_Units', 'Nielsen_Numeric_dist',\n",
       "       'Nielsen_Weighted_dist', 'Retailer_Units', 'Nielsen_price_per_unit',\n",
       "       'Nielsen_median_base_price', 'Nielsen_final_base_price', 'Nielsen_TPR',\n",
       "       'SI_17_18', 'SI_18_19', 'SI_17_18_19', 'Avg_Price_Monitoring',\n",
       "       'Weighted_Price_Monitoring', 'WPM_median_base_price',\n",
       "       'WPM_final_base_price', 'APM_median_base_price', 'APM_final_base_price',\n",
       "       'Date start promo', 'Date end promo', 'Promo_days', 'Level',\n",
       "       'Activity.name', 'Mechanic', 'Discount..NRV..', 'Auto.Status.Promo',\n",
       "       'Manual.Status.Promo', 'Approved', 'Fact_Flag', 'Remark'],\n",
       "      dtype='object')"
      ]
     },
     "execution_count": 9,
     "metadata": {},
     "output_type": "execute_result"
    }
   ],
   "source": [
    "sales_data2.columns"
   ]
  },
  {
   "cell_type": "code",
   "execution_count": 10,
   "metadata": {},
   "outputs": [
    {
     "name": "stdout",
     "output_type": "stream",
     "text": [
      "(468, 54)\n",
      "(468, 59)\n"
     ]
    }
   ],
   "source": [
    "#######Catalog Information###########\n",
    "#is promo days same as promo_data, take PPG names\n",
    "catalog_data =pd.read_excel(path+\"\\\\HypercomAndDisplay\\\\Weekly_Promo_hypercom_Gum_Data(PPG_Level).xlsx\")\n",
    "catalog_data.rename(columns={'Seller':'Retailer','Promo Groups':'PPG'},inplace=True)\n",
    "catalog_data['Retailer'].value_counts()\n",
    "catalog_data['PPG'].value_counts()\n",
    "catalog_data.drop(['Year','Week', 'Month_Name', 'Month','promo_days'],axis=1,inplace=True)\n",
    "sales_data2=pd.merge(sales_data2,catalog_data,on=['Retailer','PPG','Date'],how='left')\n",
    "print(sales_data2.shape)\n",
    "\n",
    "\n",
    "#perfer hypercom dicount,\n",
    "sales_data2['Promo_Hyper_Discount']=sales_data2['Avg_Discount.depth']\n",
    "idx = np.where(sales_data2['Promo_Hyper_Discount'].isna(), 1, 0)\n",
    "sales_data2.loc[idx==1,'Promo_Hyper_Discount']=sales_data2.loc[idx==1,'Discount..NRV..']\n",
    "\n",
    "\n",
    "########Display Info############\n",
    "#is promo period same as we got in promo_data?\n",
    "display_data=pd.read_excel(path+\"\\\\HypercomAndDisplay\\\\Disply_Output_V1.xlsx\")\n",
    "display_data.rename(columns={'Week.Start.date':'Date','Promo_Group':'PPG','MWC Chain':'Retailer'},inplace=True)\n",
    "display_data['Retailer'].value_counts()\n",
    "display_data['Retailer']=display_data['Retailer'].map({'Магнит':'Magnit','Пятерочка':'X5'})\n",
    "display_data['PPG'].value_counts()\n",
    "col_req=['Date','BAHS','AHS', 'miniBAHS', 'miniAHS', 'PPG', 'Retailer']\n",
    "sales_data2=pd.merge(sales_data2,display_data[col_req],on=['Retailer','PPG','Date'],how='left')\n",
    "print(sales_data2.shape)\n",
    "\n"
   ]
  },
  {
   "cell_type": "code",
   "execution_count": 11,
   "metadata": {},
   "outputs": [],
   "source": [
    "#Delete cols\n",
    "col_del=['sum_..Directory.distribution','Avg_..Directory.distribution','sum_Distribution.Promo.','Avg_Distribution.Promo.']\n",
    "sales_data2.drop(col_del,axis=1,inplace=True)\n",
    "\n"
   ]
  },
  {
   "cell_type": "code",
   "execution_count": 12,
   "metadata": {},
   "outputs": [
    {
     "name": "stdout",
     "output_type": "stream",
     "text": [
      "(468, 82)\n"
     ]
    }
   ],
   "source": [
    "#####Holdiay Flag Retailer#######\n",
    "magnit_holiday=pd.read_excel(path+\"\\\\Holiday\\\\Magnit Holiday Flag 18,19,20.xlsx\")\n",
    "x5_holiday=pd.read_excel(path+\"\\\\Holiday\\\\X5 Holiday Flag 18,19,20.xlsx\")\n",
    "magnit_holiday['Retailer']=\"Magnit\"\n",
    "x5_holiday[\"Retailer\"]= \"X5\"\n",
    "pos_holiday =pd.concat([x5_holiday,magnit_holiday], axis=0, ignore_index=True,sort=True)\n",
    "pos_holiday.rename(columns={'Week Start Date':'Date'},inplace=True)\n",
    "pos_holiday.drop(['Year','Week End Date','Week Number'],axis=1,inplace=True)\n",
    "pos_holiday.shape\n",
    "sales_data3=pd.merge(sales_data2,pos_holiday,on=['Retailer','Date'],how='left')\n",
    "print(sales_data3.shape)\n",
    "\n",
    "\n",
    "\n"
   ]
  },
  {
   "cell_type": "code",
   "execution_count": 13,
   "metadata": {},
   "outputs": [
    {
     "name": "stdout",
     "output_type": "stream",
     "text": [
      "(468, 94)\n"
     ]
    }
   ],
   "source": [
    "######## Nielsen PPG Competitors Information ########\n",
    "N_PPG_comp =pd.read_excel(path+\"\\\\Competitor\\\\Nielsen_PPG_Competitors_Data_GUM.xlsx\")\n",
    "N_PPG_comp.columns\n",
    "sales_data3 = pd.merge(sales_data3,N_PPG_comp,on=['PPG','Date'],how=\"left\")\n",
    "\n",
    "\n",
    "print(sales_data3.shape)\n"
   ]
  },
  {
   "cell_type": "code",
   "execution_count": 14,
   "metadata": {},
   "outputs": [
    {
     "data": {
      "text/plain": [
       "Manufacturer                               0\n",
       "Brand                                      0\n",
       "Retailer                                   0\n",
       "PPG                                        0\n",
       "Date                                       0\n",
       "Year                                       0\n",
       "Month                                      0\n",
       "Week                                       0\n",
       "Nielsen_Units                              0\n",
       "Nielsen_Sales                              0\n",
       "Nielsen_Volume                             0\n",
       "Nielsen_Updated_Units                      0\n",
       "Nielsen_Numeric_dist                       0\n",
       "Nielsen_Weighted_dist                      0\n",
       "Retailer_Units                             0\n",
       "Nielsen_price_per_unit                     0\n",
       "Nielsen_median_base_price                  4\n",
       "Nielsen_final_base_price                   0\n",
       "Nielsen_TPR                                0\n",
       "SI_17_18                                   0\n",
       "SI_18_19                                   0\n",
       "SI_17_18_19                                0\n",
       "Avg_Price_Monitoring                     282\n",
       "Weighted_Price_Monitoring                282\n",
       "WPM_median_base_price                    284\n",
       "WPM_final_base_price                     282\n",
       "APM_median_base_price                    284\n",
       "APM_final_base_price                     282\n",
       "Date start promo                         377\n",
       "Date end promo                           377\n",
       "                                        ... \n",
       "flag_easter                                0\n",
       "flag_family_day                          234\n",
       "flag_honey_saved                           0\n",
       "flag_may_day                             234\n",
       "flag_metallurgist_day                    234\n",
       "flag_mothers_day                           0\n",
       "flag_navy_day                            234\n",
       "flag_new_year                            234\n",
       "flag_old_man's_day                         0\n",
       "flag_old_new_year                          0\n",
       "flag_palm_sunday                         234\n",
       "flag_railway_day                         234\n",
       "flag_russian_day                           0\n",
       "flag_shrovetide                            0\n",
       "flag_student's_day                         0\n",
       "flag_teacher's_day                         0\n",
       "flag_valentine's_day                       0\n",
       "flag_victory_day                           0\n",
       "MARS_5.Nielsen_ASP                       234\n",
       "MARS_DOUBLMNT.Nielsen_ASP                280\n",
       "MARS_ECLIPSE OTC.Nielsen_ASP             234\n",
       "MARS_JUICYFRT.Nielsen_ASP                234\n",
       "MARS_WGSPRMNT.Nielsen_ASP                234\n",
       "MONDELEZ_DIROL OTC.Nielsen_ASP           234\n",
       "MONDELEZ_DIROL OTC OTHERS.Nielsen_ASP    410\n",
       "MONDELEZ_DIROL XXL.Nielsen_ASP           234\n",
       "MONDELEZ_LOVEIS.Nielsen_ASP              268\n",
       "MONDELEZ_STIMOROL.Nielsen_ASP            296\n",
       "PERFETTI_CHUPACHP.Nielsen_ASP            234\n",
       "PERFETTI_MENTOS.Nielsen_ASP              234\n",
       "Length: 94, dtype: int64"
      ]
     },
     "execution_count": 14,
     "metadata": {},
     "output_type": "execute_result"
    }
   ],
   "source": [
    "#remove time stamp\n",
    "sales_data3['Date'] = pd.to_datetime(sales_data3['Date']).dt.date\n",
    "sales_data3.isnull().sum()"
   ]
  },
  {
   "cell_type": "code",
   "execution_count": 15,
   "metadata": {},
   "outputs": [],
   "source": [
    "#export\n",
    "sales_data3.to_excel(\"..\\\\Output\\\\Data_Prep_Analytical\\\\Analytical_Combined_Dataset_GUM_test.xlsx\",index=False)\n"
   ]
  },
  {
   "cell_type": "code",
   "execution_count": null,
   "metadata": {},
   "outputs": [],
   "source": []
  },
  {
   "cell_type": "code",
   "execution_count": null,
   "metadata": {},
   "outputs": [],
   "source": []
  }
 ],
 "metadata": {
  "kernelspec": {
   "display_name": "Python 3",
   "language": "python",
   "name": "python3"
  },
  "language_info": {
   "codemirror_mode": {
    "name": "ipython",
    "version": 3
   },
   "file_extension": ".py",
   "mimetype": "text/x-python",
   "name": "python",
   "nbconvert_exporter": "python",
   "pygments_lexer": "ipython3",
   "version": "3.7.0"
  }
 },
 "nbformat": 4,
 "nbformat_minor": 2
}
